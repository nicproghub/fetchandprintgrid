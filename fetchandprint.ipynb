{
  "nbformat": 4,
  "nbformat_minor": 0,
  "metadata": {
    "colab": {
      "provenance": [],
      "authorship_tag": "ABX9TyPFcporwGKk81Ke6FmXqdJ7",
      "include_colab_link": true
    },
    "kernelspec": {
      "name": "python3",
      "display_name": "Python 3"
    },
    "language_info": {
      "name": "python"
    }
  },
  "cells": [
    {
      "cell_type": "markdown",
      "metadata": {
        "id": "view-in-github",
        "colab_type": "text"
      },
      "source": [
        "<a href=\"https://colab.research.google.com/github/nicproghub/fetchandprintgrid/blob/main/fetchandprint.ipynb\" target=\"_parent\"><img src=\"https://colab.research.google.com/assets/colab-badge.svg\" alt=\"Open In Colab\"/></a>"
      ]
    },
    {
      "cell_type": "code",
      "source": [
        "import requests\n",
        "from bs4 import BeautifulSoup\n",
        "\n",
        "def fetch_and_print_grid(url):\n",
        "    # Fetch the content of the Google Doc\n",
        "    response = requests.get(url)\n",
        "    if response.status_code != 200:\n",
        "        print(\"Failed to retrieve the document.\")\n",
        "        return\n",
        "\n",
        "    content = response.text\n",
        "\n",
        "    # Parse the HTML content using BeautifulSoup\n",
        "    soup = BeautifulSoup(content, 'html.parser')\n",
        "\n",
        "    # Extract all rows from the table (skip the first row)\n",
        "    rows = soup.find_all('tr')[1:]  # Skip the header row\n",
        "\n",
        "    # Initialize an empty dictionary to store in grid data\n",
        "    grid = {}\n",
        "\n",
        "    # Process the remaining rows\n",
        "    for row in rows:\n",
        "        # Get the individual cells in the row\n",
        "        cells = row.find_all('td')\n",
        "        x = int(cells[0].text.strip()) # x-coordinate from the first column\n",
        "        char = cells[1].text.strip()     # Character from the second column\n",
        "        y = int(cells[2].text.strip())  # y-coordinate from the third column\n",
        "        # Store the character at the corresponding (x, y) position in the grid\n",
        "        grid[(x,y)] = char\n",
        "\n",
        "\n",
        "    # Determine the size of the grid\n",
        "    max_x = max(coord[0] for coord in grid.keys())\n",
        "    max_y = max(coord[1] for coord in grid.keys())\n",
        "\n",
        "    # Initialize the grid with spaces\n",
        "    output_grid = [[' ' for _ in range(max_x + 1)] for _ in range(max_y + 1)]\n",
        "\n",
        "    # Fill the grid with the specified characters\n",
        "    for (x, y), char in grid.items():\n",
        "        output_grid[y][x] = char\n",
        "\n",
        "    # Print the grid\n",
        "    for row in output_grid:\n",
        "        print(''.join(row))\n",
        "\n",
        "# Example usage\n",
        "url = \"https://docs.google.com/document/d/e/2PACX-1vQGUck9HIFCyezsrBSnmENk5ieJuYwpt7YHYEzeNJkIb9OSDdx-ov2nRNReKQyey-cwJOoEKUhLmN9z/pub\"\n",
        "fetch_and_print_grid(url)"
      ],
      "metadata": {
        "colab": {
          "base_uri": "https://localhost:8080/"
        },
        "id": "3WXfxoyNevQ1",
        "outputId": "3778111c-ad5b-4571-ff1a-bb6eb8505305"
      },
      "execution_count": 1,
      "outputs": [
        {
          "output_type": "stream",
          "name": "stdout",
          "text": [
            "████████░     ████████░   ██████████░    ███████░     ██░     ██░     ███░    ███░ ██░     ██░\n",
            "██░     ██░ ███░     ███░ ██░          ███░    ██░   ████░   ████░      ██░  ██░   ██░     ██░\n",
            "██░     ██░ ██░       ██░ ██░         ███░           ██░██░ ██░██░       ██░██░    ██░     ██░\n",
            "████████░   ██░       ██░ ████████░   ██░           ███░ ██░██░ ██░       ███░     ██████████░\n",
            "██░     ██░ ██░       ██░ ██░         ███░          ██░  █████░ ███░     ██░██░    ██░     ██░\n",
            "██░     ██░ ███░     ███░ ██░          ███░    ██░ ███░   ███░   ██░    ██░  ██░   ██░     ██░\n",
            "████████░     ████████░   ██████████░    ███████░  ██░           ███░ ███░    ███░ ██░     ██░\n"
          ]
        }
      ]
    }
  ]
}